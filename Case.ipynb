{
 "cells": [
  {
   "cell_type": "code",
   "execution_count": 1,
   "id": "46b0a856",
   "metadata": {},
   "outputs": [],
   "source": [
    "import numpy as np\n",
    "import matplotlib.pyplot as plt\n",
    "%matplotlib inline"
   ]
  },
  {
   "cell_type": "code",
   "execution_count": 2,
   "id": "e29a6e2e",
   "metadata": {},
   "outputs": [
    {
     "name": "stdout",
     "output_type": "stream",
     "text": [
      "Aj[0] = 0.06, n = 0 e delta = 0.06 \n",
      "Aj[1] = 0.059929125, n = 1 e delta = 0.06 \n"
     ]
    }
   ],
   "source": [
    "at=0.04\n",
    "bt=0.06\n",
    "bj=0.1\n",
    "E=200*10**9\n",
    "v=0.29\n",
    "tol=0.005*10**(-3)\n",
    "P=50*10**6\n",
    "\n",
    "aj=[0,0,0,0,0,0,0,0,0,0,0,0]\n",
    "aj[0]=bt\n",
    "n=0\n",
    "Bt=(((1-v)*((bt/at)**2)+(1+v))/(-1+(bt/at)**2))*(P*bt)/E\n",
    "Aj=(((1-v)+(1+v)*(bj/aj[n])**2)/(-1+(bj/aj[n])**2))*(P*aj[n])/E\n",
    "k=bt-Bt-Aj\n",
    "delta = abs(aj[n+1]-aj[n])\n",
    "while delta>tol:\n",
    "    aj[n+1]=k\n",
    "    print(f\"Aj[{n}] = {aj[n]}, n = {n} e delta = {delta} \")\n",
    "    if aj[n+1]==aj[n]:\n",
    "        break\n",
    "    n=n+1"
   ]
  },
  {
   "cell_type": "code",
   "execution_count": 5,
   "id": "55544c78",
   "metadata": {},
   "outputs": [
    {
     "data": {
      "text/plain": [
       "<matplotlib.legend.Legend at 0x205565864c0>"
      ]
     },
     "execution_count": 5,
     "metadata": {},
     "output_type": "execute_result"
    },
    {
     "data": {
      "image/png": "[encoded data removed]",
      "text/plain": [
       "<Figure size 432x288 with 1 Axes>"
      ]
     },
     "metadata": {
      "needs_background": "light"
     },
     "output_type": "display_data"
    }
   ],
   "source": [
    "xt=np.linspace(at, bt, 100)\n",
    "xj=np.linspace(aj[1], bj, 100)\n",
    "\n",
    "def sigma_r_t(r):\n",
    "    return -((((bt/at)**2)-((bt/r)**2))/(-1+(bt/at)**2))*P\n",
    "\n",
    "def sigma_theta_t(r):\n",
    "    return -((((bt/at)**2)+((bt/r)**2))/(-1+(bt/at)**2))*P\n",
    "\n",
    "def sigma_r_j(r):\n",
    "    return ((1-(bj/r)**2)/(-1+(bj/aj[1])**2))*P\n",
    "\n",
    "def sigma_theta_j(r):\n",
    "    return ((1+(bj/r)**2)/(-1+(bj/aj[1])**2))*P\n",
    "\n",
    "\n",
    "%matplotlib inline\n",
    "\n",
    "plt.title(\"Tensões\")\n",
    "plt.xlabel(\"Raio (m)\")\n",
    "plt.ylabel(\"Tensão (x100 MPA)\")\n",
    "plt.plot(xt, sigma_r_t(xt), 'b', label='sigma_r')\n",
    "plt.plot(xt, sigma_theta_t(xt), 'r', label=\"sigma_theta\")\n",
    "plt.plot(xj, sigma_r_j(xj), 'b')\n",
    "plt.plot(xj, sigma_theta_j(xj), 'r')\n",
    "plt.legend(loc='best')"
   ]
  },
  {
   "cell_type": "code",
   "execution_count": null,
   "id": "087debae",
   "metadata": {},
   "outputs": [],
   "source": []
  }
 ],
 "metadata": {
  "kernelspec": {
   "display_name": "Python 3",
   "language": "python",
   "name": "python3"
  },
  "language_info": {
   "codemirror_mode": {
    "name": "ipython",
    "version": 3
   },
   "file_extension": ".py",
   "mimetype": "text/x-python",
   "name": "python",
   "nbconvert_exporter": "python",
   "pygments_lexer": "ipython3",
   "version": "3.8.8"
  }
 },
 "nbformat": 4,
 "nbformat_minor": 5
}
